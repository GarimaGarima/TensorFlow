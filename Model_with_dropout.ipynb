{
  "nbformat": 4,
  "nbformat_minor": 0,
  "metadata": {
    "colab": {
      "name": "Model with dropout.ipynb",
      "provenance": [],
      "authorship_tag": "ABX9TyOM5bTOtt9xN6ackgiOiexN",
      "include_colab_link": true
    },
    "kernelspec": {
      "name": "python3",
      "display_name": "Python 3"
    },
    "accelerator": "GPU"
  },
  "cells": [
    {
      "cell_type": "markdown",
      "metadata": {
        "id": "view-in-github",
        "colab_type": "text"
      },
      "source": [
        "<a href=\"https://colab.research.google.com/github/GarimaGarima/TensorFlow/blob/master/Model_with_dropout.ipynb\" target=\"_parent\"><img src=\"https://colab.research.google.com/assets/colab-badge.svg\" alt=\"Open In Colab\"/></a>"
      ]
    },
    {
      "cell_type": "code",
      "metadata": {
        "id": "m00kcGe35MCV",
        "colab_type": "code",
        "colab": {}
      },
      "source": [
        "import tensorflow\n",
        "from tensorflow import keras"
      ],
      "execution_count": 0,
      "outputs": []
    },
    {
      "cell_type": "code",
      "metadata": {
        "id": "6orPCkZi5gWy",
        "colab_type": "code",
        "colab": {}
      },
      "source": [
        "import numpy as np\n",
        "from keras.models import Sequential\n",
        "from keras.layers import Activation, Dense, Dropout, Flatten\n",
        "from keras.utils import to_categorical\n",
        "from keras.datasets import mnist\n",
        "import matplotlib.pyplot as plt\n"
      ],
      "execution_count": 0,
      "outputs": []
    },
    {
      "cell_type": "code",
      "metadata": {
        "id": "L2-USLxL6E7n",
        "colab_type": "code",
        "colab": {}
      },
      "source": [
        "(x_train, y_train),(x_test, y_test) = mnist.load_data()"
      ],
      "execution_count": 0,
      "outputs": []
    },
    {
      "cell_type": "code",
      "metadata": {
        "id": "kybGwEEp8nCT",
        "colab_type": "code",
        "outputId": "af3e8228-8172-4852-c35c-2768f68606e6",
        "colab": {
          "base_uri": "https://localhost:8080/",
          "height": 34
        }
      },
      "source": [
        "num_labels = len(np.unique(y_train))\n",
        "print(num_labels)"
      ],
      "execution_count": 0,
      "outputs": [
        {
          "output_type": "stream",
          "text": [
            "10\n"
          ],
          "name": "stdout"
        }
      ]
    },
    {
      "cell_type": "code",
      "metadata": {
        "id": "-Cid_G3wo5Vd",
        "colab_type": "code",
        "colab": {}
      },
      "source": [
        "y_train = to_categorical(y_train)\n",
        "y_test = to_categorical(y_test)\n"
      ],
      "execution_count": 0,
      "outputs": []
    },
    {
      "cell_type": "code",
      "metadata": {
        "id": "aikO-oVdpF9E",
        "colab_type": "code",
        "outputId": "d7b3a15c-6679-4581-8be2-f2e0d2502b7a",
        "colab": {
          "base_uri": "https://localhost:8080/",
          "height": 34
        }
      },
      "source": [
        "image_size = x_train.shape[1]\n",
        "input_size = image_size * image_size\n",
        "print(input_size)"
      ],
      "execution_count": 0,
      "outputs": [
        {
          "output_type": "stream",
          "text": [
            "784\n"
          ],
          "name": "stdout"
        }
      ]
    },
    {
      "cell_type": "code",
      "metadata": {
        "id": "9MKNxkx0pR8u",
        "colab_type": "code",
        "colab": {}
      },
      "source": [
        "x_train = np.reshape(x_train, [-1, input_size])\n",
        "x_train = x_train.astype('float32') / 255\n",
        "x_test = np.reshape(x_test, [-1, input_size])\n",
        "x_test = x_test.astype('float32') / 255"
      ],
      "execution_count": 0,
      "outputs": []
    },
    {
      "cell_type": "code",
      "metadata": {
        "id": "d4QvscgJp-9x",
        "colab_type": "code",
        "colab": {}
      },
      "source": [
        "batch_size = 128\n",
        "hidden_units = 256\n",
        "dropout = 0.45"
      ],
      "execution_count": 0,
      "outputs": []
    },
    {
      "cell_type": "code",
      "metadata": {
        "id": "uFuWJByFqJGI",
        "colab_type": "code",
        "outputId": "031b7522-a91f-4b61-8576-7abaf27e18ff",
        "colab": {
          "base_uri": "https://localhost:8080/",
          "height": 632
        }
      },
      "source": [
        "model = Sequential()\n",
        "model.add(Dense(hidden_units, input_dim = input_size))\n",
        "model.add(Activation(\"relu\"))\n",
        "model.add(Dropout(dropout))\n",
        "model.add(Dense(hidden_units))\n",
        "model.add(Activation(\"relu\"))\n",
        "model.add(Dropout(dropout))\n",
        "model.add(Dense(num_labels))\n",
        "model.add(Activation(\"softmax\"))\n",
        "model.summary()\n",
        "\n"
      ],
      "execution_count": 0,
      "outputs": [
        {
          "output_type": "stream",
          "text": [
            "WARNING:tensorflow:From /usr/local/lib/python3.6/dist-packages/keras/backend/tensorflow_backend.py:66: The name tf.get_default_graph is deprecated. Please use tf.compat.v1.get_default_graph instead.\n",
            "\n",
            "WARNING:tensorflow:From /usr/local/lib/python3.6/dist-packages/keras/backend/tensorflow_backend.py:541: The name tf.placeholder is deprecated. Please use tf.compat.v1.placeholder instead.\n",
            "\n",
            "WARNING:tensorflow:From /usr/local/lib/python3.6/dist-packages/keras/backend/tensorflow_backend.py:4432: The name tf.random_uniform is deprecated. Please use tf.random.uniform instead.\n",
            "\n",
            "WARNING:tensorflow:From /usr/local/lib/python3.6/dist-packages/keras/backend/tensorflow_backend.py:148: The name tf.placeholder_with_default is deprecated. Please use tf.compat.v1.placeholder_with_default instead.\n",
            "\n",
            "WARNING:tensorflow:From /usr/local/lib/python3.6/dist-packages/keras/backend/tensorflow_backend.py:3733: calling dropout (from tensorflow.python.ops.nn_ops) with keep_prob is deprecated and will be removed in a future version.\n",
            "Instructions for updating:\n",
            "Please use `rate` instead of `keep_prob`. Rate should be set to `rate = 1 - keep_prob`.\n",
            "Model: \"sequential_1\"\n",
            "_________________________________________________________________\n",
            "Layer (type)                 Output Shape              Param #   \n",
            "=================================================================\n",
            "dense_1 (Dense)              (None, 256)               200960    \n",
            "_________________________________________________________________\n",
            "activation_1 (Activation)    (None, 256)               0         \n",
            "_________________________________________________________________\n",
            "dropout_1 (Dropout)          (None, 256)               0         \n",
            "_________________________________________________________________\n",
            "dense_2 (Dense)              (None, 256)               65792     \n",
            "_________________________________________________________________\n",
            "activation_2 (Activation)    (None, 256)               0         \n",
            "_________________________________________________________________\n",
            "dropout_2 (Dropout)          (None, 256)               0         \n",
            "_________________________________________________________________\n",
            "dense_3 (Dense)              (None, 10)                2570      \n",
            "_________________________________________________________________\n",
            "activation_3 (Activation)    (None, 10)                0         \n",
            "=================================================================\n",
            "Total params: 269,322\n",
            "Trainable params: 269,322\n",
            "Non-trainable params: 0\n",
            "_________________________________________________________________\n"
          ],
          "name": "stdout"
        }
      ]
    },
    {
      "cell_type": "code",
      "metadata": {
        "id": "vVFJdZyRr-QX",
        "colab_type": "code",
        "outputId": "318c7c2c-df94-435b-ad43-e08a0bcdb241",
        "colab": {
          "base_uri": "https://localhost:8080/",
          "height": 105
        }
      },
      "source": [
        "model.compile(loss= \"categorical_crossentropy\", optimizer= \"adam\", metrics=[\"accuracy\"])"
      ],
      "execution_count": 0,
      "outputs": [
        {
          "output_type": "stream",
          "text": [
            "WARNING:tensorflow:From /usr/local/lib/python3.6/dist-packages/keras/optimizers.py:793: The name tf.train.Optimizer is deprecated. Please use tf.compat.v1.train.Optimizer instead.\n",
            "\n",
            "WARNING:tensorflow:From /usr/local/lib/python3.6/dist-packages/keras/backend/tensorflow_backend.py:3576: The name tf.log is deprecated. Please use tf.math.log instead.\n",
            "\n"
          ],
          "name": "stdout"
        }
      ]
    },
    {
      "cell_type": "code",
      "metadata": {
        "id": "po6hcBHFBa7E",
        "colab_type": "code",
        "outputId": "104528f3-12bc-4575-900b-360a67b12d26",
        "colab": {
          "base_uri": "https://localhost:8080/",
          "height": 34
        }
      },
      "source": [
        "print(y_train[30000])"
      ],
      "execution_count": 0,
      "outputs": [
        {
          "output_type": "stream",
          "text": [
            "[0. 0. 0. 1. 0. 0. 0. 0. 0. 0.]\n"
          ],
          "name": "stdout"
        }
      ]
    },
    {
      "cell_type": "code",
      "metadata": {
        "id": "ceyRWJOTsze6",
        "colab_type": "code",
        "outputId": "1a6fdb75-5b90-4a28-d723-baede778fb63",
        "colab": {
          "base_uri": "https://localhost:8080/",
          "height": 374
        }
      },
      "source": [
        "results = model.fit(x_train,y_train, epochs=10 , batch_size= batch_size, validation_data=(x_test,y_test))"
      ],
      "execution_count": 0,
      "outputs": [
        {
          "output_type": "stream",
          "text": [
            "Train on 60000 samples, validate on 10000 samples\n",
            "Epoch 1/10\n",
            "60000/60000 [==============================] - 2s 31us/step - loss: 0.0501 - acc: 0.9841 - val_loss: 0.0622 - val_acc: 0.9834\n",
            "Epoch 2/10\n",
            "60000/60000 [==============================] - 2s 33us/step - loss: 0.0485 - acc: 0.9841 - val_loss: 0.0671 - val_acc: 0.9813\n",
            "Epoch 3/10\n",
            "60000/60000 [==============================] - 2s 30us/step - loss: 0.0490 - acc: 0.9843 - val_loss: 0.0640 - val_acc: 0.9821\n",
            "Epoch 4/10\n",
            "60000/60000 [==============================] - 2s 31us/step - loss: 0.0492 - acc: 0.9846 - val_loss: 0.0635 - val_acc: 0.9820\n",
            "Epoch 5/10\n",
            "60000/60000 [==============================] - 2s 31us/step - loss: 0.0456 - acc: 0.9853 - val_loss: 0.0666 - val_acc: 0.9808\n",
            "Epoch 6/10\n",
            "60000/60000 [==============================] - 2s 31us/step - loss: 0.0453 - acc: 0.9858 - val_loss: 0.0648 - val_acc: 0.9830\n",
            "Epoch 7/10\n",
            "60000/60000 [==============================] - 2s 34us/step - loss: 0.0459 - acc: 0.9851 - val_loss: 0.0669 - val_acc: 0.9817\n",
            "Epoch 8/10\n",
            "60000/60000 [==============================] - 2s 34us/step - loss: 0.0436 - acc: 0.9858 - val_loss: 0.0611 - val_acc: 0.9831\n",
            "Epoch 9/10\n",
            "60000/60000 [==============================] - 2s 31us/step - loss: 0.0420 - acc: 0.9860 - val_loss: 0.0674 - val_acc: 0.9829\n",
            "Epoch 10/10\n",
            "60000/60000 [==============================] - 2s 31us/step - loss: 0.0428 - acc: 0.9855 - val_loss: 0.0645 - val_acc: 0.9825\n"
          ],
          "name": "stdout"
        }
      ]
    },
    {
      "cell_type": "code",
      "metadata": {
        "id": "skGaQJ1jtayo",
        "colab_type": "code",
        "outputId": "bab98317-bbba-4679-acd9-f2fbc3f2cf24",
        "colab": {
          "base_uri": "https://localhost:8080/",
          "height": 297
        }
      },
      "source": [
        "fig = plt.figure()\n",
        "plt.subplot(2,1,1)\n",
        "plt.plot(results.history['acc'])\n",
        "plt.plot(results.history['val_acc'])\n",
        "plt.title('model accuracy')\n",
        "plt.ylabel('accuracy')\n",
        "plt.xlabel('epoch')\n",
        "plt.legend(['train', 'test'], loc='lower right')\n",
        "\n",
        "plt.subplot(2,1,2)\n",
        "plt.plot(results.history['loss'])\n",
        "plt.plot(results.history['val_loss'])\n",
        "plt.title('model loss')\n",
        "plt.ylabel('loss')\n",
        "plt.xlabel('epoch')\n",
        "plt.legend(['train', 'test'], loc='upper right')\n",
        "\n",
        "plt.tight_layout()\n"
      ],
      "execution_count": 0,
      "outputs": [
        {
          "output_type": "display_data",
          "data": {
            "image/png": "[encoded data removed]",
            "text/plain": [
              "<Figure size 432x288 with 2 Axes>"
            ]
          },
          "metadata": {
            "tags": []
          }
        }
      ]
    },
    {
      "cell_type": "code",
      "metadata": {
        "id": "z_oNNMEFuOsj",
        "colab_type": "code",
        "outputId": "de7f5cab-50c2-4cbc-b55b-58d7cf41ec4e",
        "colab": {
          "base_uri": "https://localhost:8080/",
          "height": 34
        }
      },
      "source": [
        "loss, acc = model.evaluate(x_test, y_test, batch_size= batch_size)"
      ],
      "execution_count": 0,
      "outputs": [
        {
          "output_type": "stream",
          "text": [
            "10000/10000 [==============================] - 0s 14us/step\n"
          ],
          "name": "stdout"
        }
      ]
    },
    {
      "cell_type": "code",
      "metadata": {
        "id": "_UU3u3sRueyI",
        "colab_type": "code",
        "outputId": "de322532-ce9d-49c4-9ffb-c1f8e151c435",
        "colab": {
          "base_uri": "https://localhost:8080/",
          "height": 51
        }
      },
      "source": [
        "print(acc)\n",
        "print(loss)"
      ],
      "execution_count": 0,
      "outputs": [
        {
          "output_type": "stream",
          "text": [
            "0.9812\n",
            "0.06310796311367303\n"
          ],
          "name": "stdout"
        }
      ]
    },
    {
      "cell_type": "code",
      "metadata": {
        "id": "UN9eQ7m3x0fq",
        "colab_type": "code",
        "colab": {}
      },
      "source": [
        "Bset_images = x_train[10000:]\n",
        "Bset_label = y_train[10000:]\n",
        "Aset_images = x_train[:10000]\n",
        "Aset_label = y_train[:10000]\n",
        "Aset_labels = [np.mod(x+1,10) for x in Aset_label]"
      ],
      "execution_count": 0,
      "outputs": []
    },
    {
      "cell_type": "code",
      "metadata": {
        "id": "q6gUhRqb4gPo",
        "colab_type": "code",
        "outputId": "f7956c88-5a8a-4c5b-f37d-24200e3d31af",
        "colab": {
          "base_uri": "https://localhost:8080/",
          "height": 34
        }
      },
      "source": [
        "print(Aset_labels[0])"
      ],
      "execution_count": 0,
      "outputs": [
        {
          "output_type": "stream",
          "text": [
            "[1. 1. 1. 1. 1. 2. 1. 1. 1. 1.]\n"
          ],
          "name": "stdout"
        }
      ]
    },
    {
      "cell_type": "code",
      "metadata": {
        "id": "tPYJXzn-y3kb",
        "colab_type": "code",
        "colab": {}
      },
      "source": [
        "import numpy as np\n",
        "\n",
        "shuffled_labels = np.concatenate((Aset_labels , Bset_labels))"
      ],
      "execution_count": 0,
      "outputs": []
    },
    {
      "cell_type": "code",
      "metadata": {
        "id": "eamvf15JzBp0",
        "colab_type": "code",
        "outputId": "3bb4a664-d3fd-4588-9124-189b79f02ae3",
        "colab": {
          "base_uri": "https://localhost:8080/",
          "height": 34
        }
      },
      "source": [
        "print(Aset_labels[0])"
      ],
      "execution_count": 0,
      "outputs": [
        {
          "output_type": "stream",
          "text": [
            "[0. 0. 0. 0. 0. 0. 0. 0. 1. 0.]\n"
          ],
          "name": "stdout"
        }
      ]
    },
    {
      "cell_type": "code",
      "metadata": {
        "id": "STy0opl730fX",
        "colab_type": "code",
        "outputId": "f1432557-7d7a-4423-9a77-3b84b1acf087",
        "colab": {
          "base_uri": "https://localhost:8080/",
          "height": 34
        }
      },
      "source": [
        "print(shuffled_labels[30000])"
      ],
      "execution_count": 0,
      "outputs": [
        {
          "output_type": "stream",
          "text": [
            "[0. 0. 0. 0. 0. 0. 0. 0. 1. 0.]\n"
          ],
          "name": "stdout"
        }
      ]
    },
    {
      "cell_type": "code",
      "metadata": {
        "id": "oxODJcAxxPOt",
        "colab_type": "code",
        "outputId": "a68b8d8b-724e-4a4e-918b-29f4a3789bd1",
        "colab": {
          "base_uri": "https://localhost:8080/",
          "height": 425
        }
      },
      "source": [
        "\n",
        "model_1 = Sequential()\n",
        "model_1.add(Dense(hidden_units, input_dim = input_size))\n",
        "model_1.add(Activation(\"relu\"))\n",
        "model_1.add(Dropout(dropout))\n",
        "model_1.add(Dense(hidden_units))\n",
        "model_1.add(Activation(\"relu\"))\n",
        "model_1.add(Dropout(dropout))\n",
        "model_1.add(Dense(num_labels))\n",
        "model_1.add(Activation(\"softmax\"))\n",
        "model_1.summary()\n",
        "\n"
      ],
      "execution_count": 0,
      "outputs": [
        {
          "output_type": "stream",
          "text": [
            "Model: \"sequential_2\"\n",
            "_________________________________________________________________\n",
            "Layer (type)                 Output Shape              Param #   \n",
            "=================================================================\n",
            "dense_4 (Dense)              (None, 256)               200960    \n",
            "_________________________________________________________________\n",
            "activation_4 (Activation)    (None, 256)               0         \n",
            "_________________________________________________________________\n",
            "dropout_3 (Dropout)          (None, 256)               0         \n",
            "_________________________________________________________________\n",
            "dense_5 (Dense)              (None, 256)               65792     \n",
            "_________________________________________________________________\n",
            "activation_5 (Activation)    (None, 256)               0         \n",
            "_________________________________________________________________\n",
            "dropout_4 (Dropout)          (None, 256)               0         \n",
            "_________________________________________________________________\n",
            "dense_6 (Dense)              (None, 10)                2570      \n",
            "_________________________________________________________________\n",
            "activation_6 (Activation)    (None, 10)                0         \n",
            "=================================================================\n",
            "Total params: 269,322\n",
            "Trainable params: 269,322\n",
            "Non-trainable params: 0\n",
            "_________________________________________________________________\n"
          ],
          "name": "stdout"
        }
      ]
    },
    {
      "cell_type": "code",
      "metadata": {
        "id": "gjttcNu36sMf",
        "colab_type": "code",
        "colab": {}
      },
      "source": [
        "model_1.compile(loss= \"categorical_crossentropy\", optimizer= \"adam\", metrics=[\"accuracy\"])"
      ],
      "execution_count": 0,
      "outputs": []
    },
    {
      "cell_type": "code",
      "metadata": {
        "id": "z6y85ILP7Gb6",
        "colab_type": "code",
        "outputId": "471dbfdb-c422-4917-ab63-36a38db1a08c",
        "colab": {
          "base_uri": "https://localhost:8080/",
          "height": 374
        }
      },
      "source": [
        "results_1 = model_1.fit(x_train, shuffled_labels, epochs=10 , shuffle = True, batch_size= batch_size, validation_data=(x_test, y_test))"
      ],
      "execution_count": 0,
      "outputs": [
        {
          "output_type": "stream",
          "text": [
            "Train on 60000 samples, validate on 10000 samples\n",
            "Epoch 1/10\n",
            "60000/60000 [==============================] - 2s 31us/step - loss: 1.6784 - acc: 0.5334 - val_loss: 0.8038 - val_acc: 0.9560\n",
            "Epoch 2/10\n",
            "60000/60000 [==============================] - 2s 31us/step - loss: 1.6744 - acc: 0.5342 - val_loss: 0.8164 - val_acc: 0.9548\n",
            "Epoch 3/10\n",
            "60000/60000 [==============================] - 2s 32us/step - loss: 1.6667 - acc: 0.5349 - val_loss: 0.8146 - val_acc: 0.9543\n",
            "Epoch 4/10\n",
            "60000/60000 [==============================] - 2s 31us/step - loss: 1.6626 - acc: 0.5350 - val_loss: 0.8412 - val_acc: 0.9496\n",
            "Epoch 5/10\n",
            "60000/60000 [==============================] - 2s 32us/step - loss: 1.6607 - acc: 0.5356 - val_loss: 0.7904 - val_acc: 0.9556\n",
            "Epoch 6/10\n",
            "60000/60000 [==============================] - 2s 30us/step - loss: 1.6534 - acc: 0.5359 - val_loss: 0.7953 - val_acc: 0.9537\n",
            "Epoch 7/10\n",
            "60000/60000 [==============================] - 2s 32us/step - loss: 1.6493 - acc: 0.5364 - val_loss: 0.7774 - val_acc: 0.9538\n",
            "Epoch 8/10\n",
            "60000/60000 [==============================] - 2s 31us/step - loss: 1.6461 - acc: 0.5372 - val_loss: 0.8375 - val_acc: 0.9523\n",
            "Epoch 9/10\n",
            "60000/60000 [==============================] - 2s 32us/step - loss: 1.6443 - acc: 0.5387 - val_loss: 0.8076 - val_acc: 0.9521\n",
            "Epoch 10/10\n",
            "60000/60000 [==============================] - 2s 31us/step - loss: 1.6374 - acc: 0.5383 - val_loss: 0.8040 - val_acc: 0.9524\n"
          ],
          "name": "stdout"
        }
      ]
    },
    {
      "cell_type": "code",
      "metadata": {
        "id": "LOplBsQGZiUK",
        "colab_type": "code",
        "outputId": "86594373-3b7f-45b7-e61d-9d14a5872a82",
        "colab": {
          "base_uri": "https://localhost:8080/",
          "height": 1000
        }
      },
      "source": [
        "fig = plt.figure()\n",
        "plt.subplot(2,1,1)\n",
        "plt.plot(results_1.history['acc'])\n",
        "plt.plot(results_1.history['val_acc'])\n",
        "plt.title('model accuracy')\n",
        "plt.ylabel('accuracy')\n",
        "plt.xlabel('epoch')\n",
        "plt.legend(['train', 'test'], loc='lower right')\n",
        "\n",
        "plt.subplot(2,1,2)\n",
        "plt.plot(results_1.history['loss'])\n",
        "plt.plot(results_1.history['val_loss'])\n",
        "plt.title('model loss')\n",
        "plt.ylabel('loss')\n",
        "plt.xlabel('epoch')\n",
        "plt.legend(['train', 'test'], loc='upper right')\n",
        "\n",
        "plt.tight_layout()"
      ],
      "execution_count": 0,
      "outputs": [
        {
          "output_type": "display_data",
          "data": {
            "image/png": "[encoded data removed]",
            "text/plain": [
              "<Figure size 504x1008 with 2 Axes>"
            ]
          },
          "metadata": {
            "tags": []
          }
        }
      ]
    },
    {
      "cell_type": "code",
      "metadata": {
        "id": "N4RASPYuB14f",
        "colab_type": "code",
        "outputId": "fb82c1fd-3ced-42a1-84a8-2c53bc5ef6e5",
        "colab": {
          "base_uri": "https://localhost:8080/",
          "height": 34
        }
      },
      "source": [
        "loss_1, acc_1 = model_1.evaluate(x_test, y_test)"
      ],
      "execution_count": 0,
      "outputs": [
        {
          "output_type": "stream",
          "text": [
            "10000/10000 [==============================] - 0s 40us/step\n"
          ],
          "name": "stdout"
        }
      ]
    },
    {
      "cell_type": "code",
      "metadata": {
        "id": "0hyq7hA3DG8B",
        "colab_type": "code",
        "outputId": "70fe4fd5-0629-4212-9107-aa822a653aac",
        "colab": {
          "base_uri": "https://localhost:8080/",
          "height": 51
        }
      },
      "source": [
        "print(acc_1)\n",
        "print(loss_1)"
      ],
      "execution_count": 0,
      "outputs": [
        {
          "output_type": "stream",
          "text": [
            "0.9524\n",
            "0.8039535349845887\n"
          ],
          "name": "stdout"
        }
      ]
    },
    {
      "cell_type": "code",
      "metadata": {
        "id": "T_Qeqtc8HUyR",
        "colab_type": "code",
        "outputId": "4e723e6d-7fb9-4704-a727-ef1e9346217a",
        "colab": {
          "base_uri": "https://localhost:8080/",
          "height": 425
        }
      },
      "source": [
        "\n",
        "model_2 = Sequential()\n",
        "model_2.add(Dense(hidden_units, input_dim = input_size))\n",
        "model_2.add(Activation(\"relu\"))\n",
        "model_2.add(Dropout(dropout))\n",
        "model_2.add(Dense(hidden_units))\n",
        "model_2.add(Activation(\"relu\"))\n",
        "model_2.add(Dropout(dropout))\n",
        "model_2.add(Dense(num_labels))\n",
        "model_2.add(Activation(\"softmax\"))\n",
        "model_2.summary()"
      ],
      "execution_count": 0,
      "outputs": [
        {
          "output_type": "stream",
          "text": [
            "Model: \"sequential_3\"\n",
            "_________________________________________________________________\n",
            "Layer (type)                 Output Shape              Param #   \n",
            "=================================================================\n",
            "dense_7 (Dense)              (None, 256)               200960    \n",
            "_________________________________________________________________\n",
            "activation_7 (Activation)    (None, 256)               0         \n",
            "_________________________________________________________________\n",
            "dropout_5 (Dropout)          (None, 256)               0         \n",
            "_________________________________________________________________\n",
            "dense_8 (Dense)              (None, 256)               65792     \n",
            "_________________________________________________________________\n",
            "activation_8 (Activation)    (None, 256)               0         \n",
            "_________________________________________________________________\n",
            "dropout_6 (Dropout)          (None, 256)               0         \n",
            "_________________________________________________________________\n",
            "dense_9 (Dense)              (None, 10)                2570      \n",
            "_________________________________________________________________\n",
            "activation_9 (Activation)    (None, 10)                0         \n",
            "=================================================================\n",
            "Total params: 269,322\n",
            "Trainable params: 269,322\n",
            "Non-trainable params: 0\n",
            "_________________________________________________________________\n"
          ],
          "name": "stdout"
        }
      ]
    },
    {
      "cell_type": "code",
      "metadata": {
        "id": "WWDK0yCBHkt_",
        "colab_type": "code",
        "colab": {}
      },
      "source": [
        "model_2.compile(loss= \"categorical_crossentropy\", optimizer= \"adam\", metrics=[\"accuracy\"])"
      ],
      "execution_count": 0,
      "outputs": []
    },
    {
      "cell_type": "code",
      "metadata": {
        "id": "YfvZ3GAVHnhP",
        "colab_type": "code",
        "outputId": "04d423d8-5238-418a-b7e9-cff415962031",
        "colab": {
          "base_uri": "https://localhost:8080/",
          "height": 374
        }
      },
      "source": [
        "results_2 = model_2.fit(Aset_images, Aset_labels, epochs=10 , batch_size= batch_size, validation_data=(x_test, y_test))"
      ],
      "execution_count": 0,
      "outputs": [
        {
          "output_type": "stream",
          "text": [
            "Train on 30000 samples, validate on 10000 samples\n",
            "Epoch 1/10\n",
            "30000/30000 [==============================] - 1s 34us/step - loss: 0.0446 - acc: 0.9853 - val_loss: 0.0976 - val_acc: 0.9765\n",
            "Epoch 2/10\n",
            "30000/30000 [==============================] - 1s 35us/step - loss: 0.0384 - acc: 0.9876 - val_loss: 0.0932 - val_acc: 0.9781\n",
            "Epoch 3/10\n",
            "30000/30000 [==============================] - 1s 35us/step - loss: 0.0375 - acc: 0.9875 - val_loss: 0.0889 - val_acc: 0.9778\n",
            "Epoch 4/10\n",
            "30000/30000 [==============================] - 1s 38us/step - loss: 0.0372 - acc: 0.9877 - val_loss: 0.0966 - val_acc: 0.9772\n",
            "Epoch 5/10\n",
            "30000/30000 [==============================] - 1s 36us/step - loss: 0.0390 - acc: 0.9863 - val_loss: 0.0882 - val_acc: 0.9785\n",
            "Epoch 6/10\n",
            "30000/30000 [==============================] - 1s 33us/step - loss: 0.0339 - acc: 0.9890 - val_loss: 0.0952 - val_acc: 0.9773\n",
            "Epoch 7/10\n",
            "30000/30000 [==============================] - 1s 33us/step - loss: 0.0390 - acc: 0.9875 - val_loss: 0.0948 - val_acc: 0.9778\n",
            "Epoch 8/10\n",
            "30000/30000 [==============================] - 1s 36us/step - loss: 0.0348 - acc: 0.9891 - val_loss: 0.0897 - val_acc: 0.9780\n",
            "Epoch 9/10\n",
            "30000/30000 [==============================] - 1s 34us/step - loss: 0.0315 - acc: 0.9903 - val_loss: 0.0987 - val_acc: 0.9766\n",
            "Epoch 10/10\n",
            "30000/30000 [==============================] - 1s 36us/step - loss: 0.0333 - acc: 0.9885 - val_loss: 0.0949 - val_acc: 0.9777\n"
          ],
          "name": "stdout"
        }
      ]
    },
    {
      "cell_type": "code",
      "metadata": {
        "id": "C-sJbc2pg75u",
        "colab_type": "code",
        "outputId": "cdf51890-2ca0-4738-8339-2f503213a8b2",
        "colab": {
          "base_uri": "https://localhost:8080/",
          "height": 1000
        }
      },
      "source": [
        "fig = plt.figure()\n",
        "plt.subplot(2,1,1)\n",
        "plt.plot(results_2.history['acc'])\n",
        "plt.plot(results_2.history['val_acc'])\n",
        "plt.title('model accuracy')\n",
        "plt.ylabel('accuracy')\n",
        "plt.xlabel('epoch')\n",
        "plt.legend(['train', 'test'], loc='lower right')\n",
        "\n",
        "plt.subplot(2,1,2)\n",
        "plt.plot(results_2.history['loss'])\n",
        "plt.plot(results_2.history['val_loss'])\n",
        "plt.title('model loss')\n",
        "plt.ylabel('loss')\n",
        "plt.xlabel('epoch')\n",
        "plt.legend(['train', 'test'], loc='upper right')\n",
        "\n",
        "plt.tight_layout()\n"
      ],
      "execution_count": 0,
      "outputs": [
        {
          "output_type": "display_data",
          "data": {
            "image/png": "[encoded data removed]",
            "text/plain": [
              "<Figure size 504x1008 with 2 Axes>"
            ]
          },
          "metadata": {
            "tags": []
          }
        }
      ]
    },
    {
      "cell_type": "code",
      "metadata": {
        "id": "MHjCYrDSH10b",
        "colab_type": "code",
        "outputId": "38454f2f-0d93-462d-e592-4c882c996fa3",
        "colab": {
          "base_uri": "https://localhost:8080/",
          "height": 34
        }
      },
      "source": [
        "loss_2 , acc_2 = model_2.evaluate(x_test,y_test,batch_size= batch_size)"
      ],
      "execution_count": 0,
      "outputs": [
        {
          "output_type": "stream",
          "text": [
            "10000/10000 [==============================] - 0s 13us/step\n"
          ],
          "name": "stdout"
        }
      ]
    },
    {
      "cell_type": "code",
      "metadata": {
        "id": "Gb2wFWbrIER7",
        "colab_type": "code",
        "outputId": "93396f4b-981d-4809-9bbb-64d31a65cc0b",
        "colab": {
          "base_uri": "https://localhost:8080/",
          "height": 51
        }
      },
      "source": [
        "print(acc_2)\n",
        "print(loss_2)"
      ],
      "execution_count": 0,
      "outputs": [
        {
          "output_type": "stream",
          "text": [
            "0.9777\n",
            "0.09492093604023102\n"
          ],
          "name": "stdout"
        }
      ]
    },
    {
      "cell_type": "code",
      "metadata": {
        "id": "6dPh3RrSIKjc",
        "colab_type": "code",
        "outputId": "c2f06f06-db5e-430b-efdf-180198891731",
        "colab": {
          "base_uri": "https://localhost:8080/",
          "height": 425
        }
      },
      "source": [
        "model_3 = Sequential()\n",
        "model_3.add(Dense(hidden_units, input_dim = input_size))\n",
        "model_3.add(Activation(\"relu\"))\n",
        "model_3.add(Dropout(dropout))\n",
        "model_3.add(Dense(hidden_units))\n",
        "model_3.add(Activation(\"relu\"))\n",
        "model_3.add(Dropout(dropout))\n",
        "model_3.add(Dense(num_labels))\n",
        "model_3.add(Activation(\"softmax\"))\n",
        "model_3.summary()"
      ],
      "execution_count": 0,
      "outputs": [
        {
          "output_type": "stream",
          "text": [
            "Model: \"sequential_4\"\n",
            "_________________________________________________________________\n",
            "Layer (type)                 Output Shape              Param #   \n",
            "=================================================================\n",
            "dense_10 (Dense)             (None, 256)               200960    \n",
            "_________________________________________________________________\n",
            "activation_10 (Activation)   (None, 256)               0         \n",
            "_________________________________________________________________\n",
            "dropout_7 (Dropout)          (None, 256)               0         \n",
            "_________________________________________________________________\n",
            "dense_11 (Dense)             (None, 256)               65792     \n",
            "_________________________________________________________________\n",
            "activation_11 (Activation)   (None, 256)               0         \n",
            "_________________________________________________________________\n",
            "dropout_8 (Dropout)          (None, 256)               0         \n",
            "_________________________________________________________________\n",
            "dense_12 (Dense)             (None, 10)                2570      \n",
            "_________________________________________________________________\n",
            "activation_12 (Activation)   (None, 10)                0         \n",
            "=================================================================\n",
            "Total params: 269,322\n",
            "Trainable params: 269,322\n",
            "Non-trainable params: 0\n",
            "_________________________________________________________________\n"
          ],
          "name": "stdout"
        }
      ]
    },
    {
      "cell_type": "code",
      "metadata": {
        "id": "jZ9_PGgSIS05",
        "colab_type": "code",
        "colab": {}
      },
      "source": [
        "model_3.compile(loss= \"categorical_crossentropy\", optimizer= \"adam\", metrics=[\"accuracy\"])"
      ],
      "execution_count": 0,
      "outputs": []
    },
    {
      "cell_type": "code",
      "metadata": {
        "id": "7MSV-wonIZ3-",
        "colab_type": "code",
        "outputId": "2d468089-dec4-4167-c431-2d1d0e1d28ac",
        "colab": {
          "base_uri": "https://localhost:8080/",
          "height": 374
        }
      },
      "source": [
        "results_3 = model_3.fit(Bset_images, Bset_labels, epochs=10 , batch_size= batch_size, validation_data=(x_test, y_test))"
      ],
      "execution_count": 0,
      "outputs": [
        {
          "output_type": "stream",
          "text": [
            "Train on 30000 samples, validate on 10000 samples\n",
            "Epoch 1/10\n",
            "30000/30000 [==============================] - 1s 37us/step - loss: 2.2903 - acc: 0.1228 - val_loss: 2.3343 - val_acc: 0.1107\n",
            "Epoch 2/10\n",
            "30000/30000 [==============================] - 1s 39us/step - loss: 2.2862 - acc: 0.1271 - val_loss: 2.3128 - val_acc: 0.1214\n",
            "Epoch 3/10\n",
            "30000/30000 [==============================] - 1s 38us/step - loss: 2.2830 - acc: 0.1298 - val_loss: 2.3279 - val_acc: 0.0560\n",
            "Epoch 4/10\n",
            "30000/30000 [==============================] - 1s 35us/step - loss: 2.2768 - acc: 0.1342 - val_loss: 2.3065 - val_acc: 0.1109\n",
            "Epoch 5/10\n",
            "30000/30000 [==============================] - 1s 37us/step - loss: 2.2719 - acc: 0.1358 - val_loss: 2.3073 - val_acc: 0.1121\n",
            "Epoch 6/10\n",
            "30000/30000 [==============================] - 1s 38us/step - loss: 2.2666 - acc: 0.1427 - val_loss: 2.3273 - val_acc: 0.1131\n",
            "Epoch 7/10\n",
            "30000/30000 [==============================] - 1s 43us/step - loss: 2.2588 - acc: 0.1427 - val_loss: 2.3241 - val_acc: 0.0850\n",
            "Epoch 8/10\n",
            "30000/30000 [==============================] - 1s 35us/step - loss: 2.2520 - acc: 0.1497 - val_loss: 2.3304 - val_acc: 0.0848\n",
            "Epoch 9/10\n",
            "30000/30000 [==============================] - 1s 36us/step - loss: 2.2447 - acc: 0.1537 - val_loss: 2.3309 - val_acc: 0.1092\n",
            "Epoch 10/10\n",
            "30000/30000 [==============================] - 1s 35us/step - loss: 2.2390 - acc: 0.1535 - val_loss: 2.3415 - val_acc: 0.0894\n"
          ],
          "name": "stdout"
        }
      ]
    },
    {
      "cell_type": "code",
      "metadata": {
        "id": "KFyXRyJVhvcT",
        "colab_type": "code",
        "outputId": "804714c7-4606-4d21-b46e-c97fad4a1d28",
        "colab": {
          "base_uri": "https://localhost:8080/",
          "height": 1000
        }
      },
      "source": [
        "fig = plt.figure()\n",
        "plt.subplot(2,1,1)\n",
        "plt.plot(results_3.history['acc'])\n",
        "plt.plot(results_3.history['val_acc'])\n",
        "plt.title('model accuracy')\n",
        "plt.ylabel('accuracy')\n",
        "plt.xlabel('epoch')\n",
        "plt.legend(['train', 'test'], loc='lower right')\n",
        "\n",
        "plt.subplot(2,1,2)\n",
        "plt.plot(results_3.history['loss'])\n",
        "plt.plot(results_3.history['val_loss'])\n",
        "plt.title('model loss')\n",
        "plt.ylabel('loss')\n",
        "plt.xlabel('epoch')\n",
        "plt.legend(['train', 'test'], loc='upper right')\n",
        "\n",
        "plt.tight_layout()\n"
      ],
      "execution_count": 0,
      "outputs": [
        {
          "output_type": "display_data",
          "data": {
            "image/png": "[encoded data removed]",
            "text/plain": [
              "<Figure size 504x1008 with 2 Axes>"
            ]
          },
          "metadata": {
            "tags": []
          }
        }
      ]
    },
    {
      "cell_type": "code",
      "metadata": {
        "id": "0PbBe18XIkb0",
        "colab_type": "code",
        "outputId": "8e193d1f-9e15-47f5-f6b5-1df23201b1ca",
        "colab": {
          "base_uri": "https://localhost:8080/",
          "height": 34
        }
      },
      "source": [
        "loss3, acc3 = model_3.evaluate(x_test,y_test, batch_size= batch_size)"
      ],
      "execution_count": 0,
      "outputs": [
        {
          "output_type": "stream",
          "text": [
            "10000/10000 [==============================] - 0s 13us/step\n"
          ],
          "name": "stdout"
        }
      ]
    },
    {
      "cell_type": "code",
      "metadata": {
        "id": "TMI0cQi-I2wj",
        "colab_type": "code",
        "outputId": "cb32290a-9da8-490b-f010-6f59a4cfeebf",
        "colab": {
          "base_uri": "https://localhost:8080/",
          "height": 51
        }
      },
      "source": [
        "print(acc3)\n",
        "print(loss3)"
      ],
      "execution_count": 0,
      "outputs": [
        {
          "output_type": "stream",
          "text": [
            "0.0894\n",
            "2.3414521545410154\n"
          ],
          "name": "stdout"
        }
      ]
    }
  ]
}